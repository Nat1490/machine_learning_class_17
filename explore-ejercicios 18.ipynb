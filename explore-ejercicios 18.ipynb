{
    "cells": [
        {
            "cell_type": "markdown",
            "metadata": {},
            "source": [
                "# Explore here"
            ]
        },
        {
            "cell_type": "code",
            "execution_count": 32,
            "metadata": {},
            "outputs": [],
            "source": [
                "import pandas as pd\n",
                "import urllib.request\n",
                "import ssl\n",
                "\n",
                "import numpy as np\n",
                "\n",
                "import matplotlib.pyplot as plt\n",
                "import seaborn as sns\n",
                "\n",
                "# escalado\n",
                "from sklearn.preprocessing import StandardScaler\n",
                "from sklearn.preprocessing import MinMaxScaler\n",
                "\n",
                "# encoding\n",
                "from sklearn.preprocessing import LabelEncoder\n",
                "from sklearn.preprocessing import OneHotEncoder\n",
                "\n",
                "from sklearn.model_selection import GridSearchCV\n",
                "from sklearn.model_selection import RandomizedSearchCV\n",
                "\n",
                "#modelado\n",
                "from sklearn.model_selection import train_test_split\n",
                "from sklearn.linear_model import LinearRegression\n",
                "from sklearn.metrics import mean_squared_error, r2_score\n"
            ]
        },
        {
            "cell_type": "code",
            "execution_count": 33,
            "metadata": {},
            "outputs": [
                {
                    "data": {
                        "text/html": [
                            "<div>\n",
                            "<style scoped>\n",
                            "    .dataframe tbody tr th:only-of-type {\n",
                            "        vertical-align: middle;\n",
                            "    }\n",
                            "\n",
                            "    .dataframe tbody tr th {\n",
                            "        vertical-align: top;\n",
                            "    }\n",
                            "\n",
                            "    .dataframe thead th {\n",
                            "        text-align: right;\n",
                            "    }\n",
                            "</style>\n",
                            "<table border=\"1\" class=\"dataframe\">\n",
                            "  <thead>\n",
                            "    <tr style=\"text-align: right;\">\n",
                            "      <th></th>\n",
                            "      <th>age</th>\n",
                            "      <th>sex</th>\n",
                            "      <th>bmi</th>\n",
                            "      <th>children</th>\n",
                            "      <th>smoker</th>\n",
                            "      <th>region</th>\n",
                            "      <th>charges</th>\n",
                            "    </tr>\n",
                            "  </thead>\n",
                            "  <tbody>\n",
                            "    <tr>\n",
                            "      <th>0</th>\n",
                            "      <td>19</td>\n",
                            "      <td>female</td>\n",
                            "      <td>27.900</td>\n",
                            "      <td>0</td>\n",
                            "      <td>yes</td>\n",
                            "      <td>southwest</td>\n",
                            "      <td>16884.92400</td>\n",
                            "    </tr>\n",
                            "    <tr>\n",
                            "      <th>1</th>\n",
                            "      <td>18</td>\n",
                            "      <td>male</td>\n",
                            "      <td>33.770</td>\n",
                            "      <td>1</td>\n",
                            "      <td>no</td>\n",
                            "      <td>southeast</td>\n",
                            "      <td>1725.55230</td>\n",
                            "    </tr>\n",
                            "    <tr>\n",
                            "      <th>2</th>\n",
                            "      <td>28</td>\n",
                            "      <td>male</td>\n",
                            "      <td>33.000</td>\n",
                            "      <td>3</td>\n",
                            "      <td>no</td>\n",
                            "      <td>southeast</td>\n",
                            "      <td>4449.46200</td>\n",
                            "    </tr>\n",
                            "    <tr>\n",
                            "      <th>3</th>\n",
                            "      <td>33</td>\n",
                            "      <td>male</td>\n",
                            "      <td>22.705</td>\n",
                            "      <td>0</td>\n",
                            "      <td>no</td>\n",
                            "      <td>northwest</td>\n",
                            "      <td>21984.47061</td>\n",
                            "    </tr>\n",
                            "    <tr>\n",
                            "      <th>4</th>\n",
                            "      <td>32</td>\n",
                            "      <td>male</td>\n",
                            "      <td>28.880</td>\n",
                            "      <td>0</td>\n",
                            "      <td>no</td>\n",
                            "      <td>northwest</td>\n",
                            "      <td>3866.85520</td>\n",
                            "    </tr>\n",
                            "  </tbody>\n",
                            "</table>\n",
                            "</div>"
                        ],
                        "text/plain": [
                            "   age     sex     bmi  children smoker     region      charges\n",
                            "0   19  female  27.900         0    yes  southwest  16884.92400\n",
                            "1   18    male  33.770         1     no  southeast   1725.55230\n",
                            "2   28    male  33.000         3     no  southeast   4449.46200\n",
                            "3   33    male  22.705         0     no  northwest  21984.47061\n",
                            "4   32    male  28.880         0     no  northwest   3866.85520"
                        ]
                    },
                    "execution_count": 33,
                    "metadata": {},
                    "output_type": "execute_result"
                }
            ],
            "source": [
                "# Cargamos el Dataset y lo guardamos en raw para poderlo leer:\n",
                "\n",
                "from ssl import _create_unverified_context\n",
                "\n",
                "url =\"https://raw.githubusercontent.com/4GeeksAcademy/linear-regression-project-tutorial/main/medical_insurance_cost.csv\"\n",
                "\n",
                "ssl_context = urllib.request.urlopen(url, context=ssl._create_unverified_context())\n",
                "df=pd.read_csv(ssl_context, index_col=None, delimiter=\",\")\n",
                "\n",
                "df.to_csv (\"/Users/nataliagarciavila/Desktop/4 GEEKS ACADEMY/CLASES_EJERCICIOS_/CLASES_EJERCICIOS_/EJERCICIOS/EJERCICIOS CLASE 17-18:: MACHINE LEARNING/CLASE EJERCICIOS 18/machine-learning-python-template/data/raw/data.csv\")\n",
                "\n",
                "df.head()\n",
                "\n"
            ]
        },
        {
            "cell_type": "code",
            "execution_count": 34,
            "metadata": {},
            "outputs": [
                {
                    "data": {
                        "text/plain": [
                            "(1338, 7)"
                        ]
                    },
                    "execution_count": 34,
                    "metadata": {},
                    "output_type": "execute_result"
                }
            ],
            "source": [
                "#Conocer las dimensiones y tipologías de datos del objeto con el que estamos trabajando es vital\n",
                "\n",
                "df.shape"
            ]
        },
        {
            "cell_type": "code",
            "execution_count": 35,
            "metadata": {},
            "outputs": [
                {
                    "name": "stdout",
                    "output_type": "stream",
                    "text": [
                        "<class 'pandas.core.frame.DataFrame'>\n",
                        "RangeIndex: 1338 entries, 0 to 1337\n",
                        "Data columns (total 7 columns):\n",
                        " #   Column    Non-Null Count  Dtype  \n",
                        "---  ------    --------------  -----  \n",
                        " 0   age       1338 non-null   int64  \n",
                        " 1   sex       1338 non-null   object \n",
                        " 2   bmi       1338 non-null   float64\n",
                        " 3   children  1338 non-null   int64  \n",
                        " 4   smoker    1338 non-null   object \n",
                        " 5   region    1338 non-null   object \n",
                        " 6   charges   1338 non-null   float64\n",
                        "dtypes: float64(2), int64(2), object(3)\n",
                        "memory usage: 73.3+ KB\n"
                    ]
                }
            ],
            "source": [
                "# Obtener información sobre tipos de datos y valores no nulos\n",
                "\n",
                "df.info()"
            ]
        },
        {
            "cell_type": "code",
            "execution_count": 36,
            "metadata": {},
            "outputs": [
                {
                    "data": {
                        "text/plain": [
                            "age         0\n",
                            "sex         0\n",
                            "bmi         0\n",
                            "children    0\n",
                            "smoker      0\n",
                            "region      0\n",
                            "charges     0\n",
                            "dtype: int64"
                        ]
                    },
                    "execution_count": 36,
                    "metadata": {},
                    "output_type": "execute_result"
                }
            ],
            "source": [
                "#Utilizamos el método 'isna' para conocer cuántos valores nulos hay por columna:\n",
                "\n",
                "total_nans = df.isna().sum()\n",
                "total_nans"
            ]
        },
        {
            "cell_type": "code",
            "execution_count": 37,
            "metadata": {},
            "outputs": [
                {
                    "data": {
                        "text/plain": [
                            "0       False\n",
                            "1       False\n",
                            "2       False\n",
                            "3       False\n",
                            "4       False\n",
                            "        ...  \n",
                            "1333    False\n",
                            "1334    False\n",
                            "1335    False\n",
                            "1336    False\n",
                            "1337    False\n",
                            "Length: 1338, dtype: bool"
                        ]
                    },
                    "execution_count": 37,
                    "metadata": {},
                    "output_type": "execute_result"
                }
            ],
            "source": [
                "#Usamos el método duplicated() para detectar duplicados en un DataFrame y sum() para contar el número de duplicados.\n",
                "\n",
                "duplicados = df.duplicated()\n",
                "num_duplicados = duplicados.sum()\n",
                "duplicados"
            ]
        },
        {
            "cell_type": "markdown",
            "metadata": {},
            "source": [
                "En este caso como todos los datos son relevantes para el análisis socio-demogáfico de salud,no consideramos el hecho de eliminar ningún dato."
            ]
        },
        {
            "cell_type": "code",
            "execution_count": 38,
            "metadata": {},
            "outputs": [
                {
                    "name": "stdout",
                    "output_type": "stream",
                    "text": [
                        "      age     sex     bmi  children smoker     region      charges\n",
                        "0      19  female  27.900         0    yes  southwest  16884.92400\n",
                        "1      18    male  33.770         1     no  southeast   1725.55230\n",
                        "2      28    male  33.000         3     no  southeast   4449.46200\n",
                        "3      33    male  22.705         0     no  northwest  21984.47061\n",
                        "4      32    male  28.880         0     no  northwest   3866.85520\n",
                        "...   ...     ...     ...       ...    ...        ...          ...\n",
                        "1333   50    male  30.970         3     no  northwest  10600.54830\n",
                        "1334   18  female  31.920         0     no  northeast   2205.98080\n",
                        "1335   18  female  36.850         0     no  southeast   1629.83350\n",
                        "1336   21  female  25.800         0     no  southwest   2007.94500\n",
                        "1337   61  female  29.070         0    yes  northwest  29141.36030\n",
                        "\n",
                        "[1338 rows x 7 columns]\n"
                    ]
                }
            ],
            "source": [
                "# Creamos una lista de arrays con las filas indicadas:\n",
                "rows_to_filter= [\"age\",\"sex\",\"bmi\",\"children\",\"smoker\",\"region\",\"charges\"]\n",
                "\n",
                "# Eliminamos las filas donde cualquier fila en 'rows_to_filter' tiene el valor 'unknown':\n",
                "\n",
                "for rows in rows_to_filter:\n",
                "    df = df[df[rows] != 'unknown']\n",
                "\n",
                "print(df)"
            ]
        },
        {
            "cell_type": "code",
            "execution_count": 39,
            "metadata": {},
            "outputs": [
                {
                    "data": {
                        "image/png": "[encoded data removed]",
                        "text/plain": [
                            "<Figure size 2000x1500 with 4 Axes>"
                        ]
                    },
                    "metadata": {},
                    "output_type": "display_data"
                }
            ],
            "source": [
                "# Vamos a definir las variantes tanto categóricas como univariantes. Primero empezaremos analizando las categóricas:\n",
                "\n",
                "fig, axes = plt.subplots(2 ,2, figsize=(20, 15))\n",
                "\n",
                "# Bar plot para \"sex\"\n",
                "\n",
                "df['sex'].value_counts().plot(kind= \"bar\", ax=axes[0,0], color=\"coral\", edgecolor=\"k\")\n",
                "\n",
                "axes[0,0].set_title('sex distribution')\n",
                "axes[0,0].set_xlabel('sex')\n",
                "axes[0,0].set_ylabel('Frequency')\n",
                "\n",
                "# Bar plot para \"children\"\n",
                "df[\"children\"].value_counts().plot(kind= \"bar\", ax=axes[0,1], color=\"lightgreen\", edgecolor=\"k\")\n",
                "\n",
                "axes[0,1].set_title('Children distribution')\n",
                "axes[0,1].set_xlabel('Children')\n",
                "axes[0,1].set_ylabel('Frequency')\n",
                "\n",
                "# Bar plot para \"smoker\"\n",
                "df[\"smoker\"].value_counts().plot(kind= \"bar\", ax=axes[1,0], color=\"yellow\", edgecolor=\"k\")\n",
                "\n",
                "axes[1,0].set_title('smoker distribution')\n",
                "axes[1,0].set_xlabel('smoker')\n",
                "axes[1,0].set_ylabel('Frequency')\n",
                "\n",
                "# Bar plot para \"region\"\n",
                "df[\"region\"].value_counts().plot(kind= \"bar\", ax=axes[1,1], color=\"purple\", edgecolor=\"k\")\n",
                "\n",
                "axes[1,1].set_title('region distribution')\n",
                "axes[1,1].set_xlabel('region')\n",
                "axes[1,1].set_ylabel('Frequency')\n",
                "\n",
                "# Ajustar el layout\n",
                "plt.tight_layout()\n",
                "\n",
                "# Mostrar el plot\n",
                "plt.show()\n",
                "\n"
            ]
        },
        {
            "cell_type": "code",
            "execution_count": 40,
            "metadata": {},
            "outputs": [
                {
                    "data": {
                        "image/png": "[encoded data removed]",
                        "text/plain": [
                            "<Figure size 1000x700 with 4 Axes>"
                        ]
                    },
                    "metadata": {},
                    "output_type": "display_data"
                }
            ],
            "source": [
                "# Vamos a definir las variantes univariantes numéricas:\n",
                "\n",
                "import matplotlib.pyplot as plt \n",
                "import seaborn as sns\n",
                "\n",
                "fig, axis = plt.subplots (2,2,figsize = (10,7), gridspec_kw={'height_ratios': [5,2]})\n",
                "\n",
                "# Crear un histograma múltiple\n",
                "\n",
                "sns.histplot(ax = axis[0, 0], data = df, x = \"charges\")\n",
                "\n",
                "sns.histplot(ax = axis[0,1], data = df, x = \"age\")\n",
                "\n",
                "sns.histplot(ax = axis[1,0], data = df, x = \"bmi\")\n",
                "\n",
                "#fig.delaxes(axes[1,1])\n",
                "#fig.delaxes(axes[2,0])\n",
                "#fig.delaxes(axes[2,1])\n",
                "\n",
                "# Ajustar el layout\n",
                "plt.tight_layout()\n",
                "\n",
                "# Mostrar el plot\n",
                "plt.show()"
            ]
        },
        {
            "cell_type": "markdown",
            "metadata": {},
            "source": [
                "Como podemos observar en estas gráficas, tenemos los siguientes resultados:\n",
                "\n",
                "- Charges. Prima del seguro médico (numérico): El precio a pagar por prima de seguro estaría por debajo de los 10.000€, aproximadamente a unos 5000€.\n",
                "\n",
                "- Age: Alrededor de unos 180 clientes de 4Geeks Insurance S.L, ronda los 20 años de edad.\n",
                "\n",
                "- BMI Índice de masa corporal: Aproximadamente unos 130 clientes tienen un índice de masa corporal de 30."
            ]
        },
        {
            "cell_type": "code",
            "execution_count": 51,
            "metadata": {},
            "outputs": [
                {
                    "data": {
                        "image/png": "[encoded data removed]",
                        "text/plain": [
                            "<Figure size 600x600 with 2 Axes>"
                        ]
                    },
                    "metadata": {},
                    "output_type": "display_data"
                }
            ],
            "source": [
                "fig, axis = plt.subplots(figsize = (6,6))\n",
                "\n",
                "sns.heatmap(df[[\"age\",\"bmi\"]].corr(), annot = True, fmt = \".2f\")\n",
                "\n",
                "plt.tight_layout()\n",
                "\n",
                "plt.show()"
            ]
        },
        {
            "cell_type": "code",
            "execution_count": null,
            "metadata": {},
            "outputs": [
                {
                    "data": {
                        "image/png": "[encoded data removed]",
                        "text/plain": [
                            "<Figure size 1000x700 with 4 Axes>"
                        ]
                    },
                    "metadata": {},
                    "output_type": "display_data"
                }
            ],
            "source": [
                "# Vamos a definir las variantes de smoker y age:\n",
                "\n",
                "fig, axis = plt.subplots(2, 2, figsize = (10, 7), gridspec_kw={'height_ratios': [6, 1]})\n",
                "\n",
                "# Crear una figura múltiple con histogramas y diagramas de caja\n",
                "sns.histplot(ax = axis[0, 0], data = df, x = \"smoker\").set(xlabel = None)\n",
                "sns.boxplot(ax = axis[1, 0], data = df, x = \"smoker\")\n",
                "sns.histplot(ax = axis[0, 1], data = df, x = \"age\").set(xlabel = None, ylabel = None)\n",
                "sns.boxplot(ax = axis[1, 1], data = df, x = \"age\")\n",
                "\n",
                "# Ajustar el layout\n",
                "plt.tight_layout()\n",
                "\n",
                "for ax in axis.flat:\n",
                "    plt.sca(ax)\n",
                "    plt.xticks(rotation=40,ha=\"right\")\n",
                "    \n",
                "# Mostrar el plot\n",
                "plt.show()"
            ]
        },
        {
            "cell_type": "markdown",
            "metadata": {},
            "source": [
                "Mirando las gráficas que tenemos aqui de fumadores y edad, vemos que la mayoría de clientes (aprox.185-190 clientes) que rondan la veintena, NO son fumadores.\n",
                "\n",
                "La mayoría de fumadores se comprenden entre los 27-28 años, hasta los 51-52 años aprox.\n",
                "\n",
                "Así que, sí tenemos que tener en cuenta estas dos variables para poder calcular la prima del seguro médico, como los fumadores tienen más riesgo de contraer enfermedades de carácter cardiovascular y pulmonar, estas edades son las que tendríamos que tener en cuenta para poder calcular su prima del seguro según si son fumadores o no."
            ]
        },
        {
            "cell_type": "markdown",
            "metadata": {},
            "source": [
                "VALORES ATÍPICOS (OUTLIERS)"
            ]
        },
        {
            "cell_type": "code",
            "execution_count": null,
            "metadata": {},
            "outputs": [
                {
                    "data": {
                        "text/html": [
                            "<div>\n",
                            "<style scoped>\n",
                            "    .dataframe tbody tr th:only-of-type {\n",
                            "        vertical-align: middle;\n",
                            "    }\n",
                            "\n",
                            "    .dataframe tbody tr th {\n",
                            "        vertical-align: top;\n",
                            "    }\n",
                            "\n",
                            "    .dataframe thead th {\n",
                            "        text-align: right;\n",
                            "    }\n",
                            "</style>\n",
                            "<table border=\"1\" class=\"dataframe\">\n",
                            "  <thead>\n",
                            "    <tr style=\"text-align: right;\">\n",
                            "      <th></th>\n",
                            "      <th>age</th>\n",
                            "      <th>bmi</th>\n",
                            "      <th>children</th>\n",
                            "      <th>charges</th>\n",
                            "    </tr>\n",
                            "  </thead>\n",
                            "  <tbody>\n",
                            "    <tr>\n",
                            "      <th>count</th>\n",
                            "      <td>1338.000000</td>\n",
                            "      <td>1338.000000</td>\n",
                            "      <td>1338.000000</td>\n",
                            "      <td>1338.000000</td>\n",
                            "    </tr>\n",
                            "    <tr>\n",
                            "      <th>mean</th>\n",
                            "      <td>39.207025</td>\n",
                            "      <td>30.663397</td>\n",
                            "      <td>1.094918</td>\n",
                            "      <td>13270.422265</td>\n",
                            "    </tr>\n",
                            "    <tr>\n",
                            "      <th>std</th>\n",
                            "      <td>14.049960</td>\n",
                            "      <td>6.098187</td>\n",
                            "      <td>1.205493</td>\n",
                            "      <td>12110.011237</td>\n",
                            "    </tr>\n",
                            "    <tr>\n",
                            "      <th>min</th>\n",
                            "      <td>18.000000</td>\n",
                            "      <td>15.960000</td>\n",
                            "      <td>0.000000</td>\n",
                            "      <td>1121.873900</td>\n",
                            "    </tr>\n",
                            "    <tr>\n",
                            "      <th>25%</th>\n",
                            "      <td>27.000000</td>\n",
                            "      <td>26.296250</td>\n",
                            "      <td>0.000000</td>\n",
                            "      <td>4740.287150</td>\n",
                            "    </tr>\n",
                            "    <tr>\n",
                            "      <th>50%</th>\n",
                            "      <td>39.000000</td>\n",
                            "      <td>30.400000</td>\n",
                            "      <td>1.000000</td>\n",
                            "      <td>9382.033000</td>\n",
                            "    </tr>\n",
                            "    <tr>\n",
                            "      <th>75%</th>\n",
                            "      <td>51.000000</td>\n",
                            "      <td>34.693750</td>\n",
                            "      <td>2.000000</td>\n",
                            "      <td>16639.912515</td>\n",
                            "    </tr>\n",
                            "    <tr>\n",
                            "      <th>max</th>\n",
                            "      <td>64.000000</td>\n",
                            "      <td>53.130000</td>\n",
                            "      <td>5.000000</td>\n",
                            "      <td>63770.428010</td>\n",
                            "    </tr>\n",
                            "  </tbody>\n",
                            "</table>\n",
                            "</div>"
                        ],
                        "text/plain": [
                            "               age          bmi     children       charges\n",
                            "count  1338.000000  1338.000000  1338.000000   1338.000000\n",
                            "mean     39.207025    30.663397     1.094918  13270.422265\n",
                            "std      14.049960     6.098187     1.205493  12110.011237\n",
                            "min      18.000000    15.960000     0.000000   1121.873900\n",
                            "25%      27.000000    26.296250     0.000000   4740.287150\n",
                            "50%      39.000000    30.400000     1.000000   9382.033000\n",
                            "75%      51.000000    34.693750     2.000000  16639.912515\n",
                            "max      64.000000    53.130000     5.000000  63770.428010"
                        ]
                    },
                    "execution_count": 54,
                    "metadata": {},
                    "output_type": "execute_result"
                }
            ],
            "source": [
                "# Vamos a ver cuáles son nuestros outliers para que nuestro dataset quede lo más limpio posible.\n",
                "\n",
                "#El análisis descriptivo es una poderosa herramienta para caracterizar el conjunto de datos:\n",
                "\n",
                "df.describe()"
            ]
        },
        {
            "cell_type": "code",
            "execution_count": null,
            "metadata": {},
            "outputs": [
                {
                    "ename": "IndexError",
                    "evalue": "index 3 is out of bounds for axis 0 with size 2",
                    "output_type": "error",
                    "traceback": [
                        "\u001b[0;31m---------------------------------------------------------------------------\u001b[0m",
                        "\u001b[0;31mIndexError\u001b[0m                                Traceback (most recent call last)",
                        "Cell \u001b[0;32mIn[55], line 11\u001b[0m\n\u001b[1;32m      7\u001b[0m sns\u001b[38;5;241m.\u001b[39mboxplot(ax \u001b[38;5;241m=\u001b[39m axis[\u001b[38;5;241m1\u001b[39m,\u001b[38;5;241m0\u001b[39m], data \u001b[38;5;241m=\u001b[39m df, y \u001b[38;5;241m=\u001b[39m \u001b[38;5;124m\"\u001b[39m\u001b[38;5;124mbmi\u001b[39m\u001b[38;5;124m\"\u001b[39m)\n\u001b[1;32m      8\u001b[0m sns\u001b[38;5;241m.\u001b[39mboxplot(ax \u001b[38;5;241m=\u001b[39m axis[\u001b[38;5;241m1\u001b[39m,\u001b[38;5;241m1\u001b[39m], data \u001b[38;5;241m=\u001b[39m df, y \u001b[38;5;241m=\u001b[39m \u001b[38;5;124m\"\u001b[39m\u001b[38;5;124mchildren\u001b[39m\u001b[38;5;124m\"\u001b[39m)\n\u001b[0;32m---> 11\u001b[0m fig\u001b[38;5;241m.\u001b[39mdelaxes(axis[\u001b[38;5;241m3\u001b[39m,\u001b[38;5;241m3\u001b[39m])\n\u001b[1;32m     12\u001b[0m plt\u001b[38;5;241m.\u001b[39mtight_layout()\n\u001b[1;32m     14\u001b[0m plt\u001b[38;5;241m.\u001b[39mshow()\n",
                        "\u001b[0;31mIndexError\u001b[0m: index 3 is out of bounds for axis 0 with size 2"
                    ]
                },
                {
                    "data": {
                        "image/png": "[encoded data removed]",
                        "text/plain": [
                            "<Figure size 1000x800 with 4 Axes>"
                        ]
                    },
                    "metadata": {},
                    "output_type": "display_data"
                }
            ],
            "source": [
                "#Dibujar los diagramas de cajas de las variables nos da información poderosa para ver los valores atípicos:\n",
                "\n",
                "fig, axis = plt.subplots(2,2, figsize = (10, 8))\n",
                "\n",
                "sns.boxplot(ax = axis[0,0], data = df, y = \"charges\")\n",
                "sns.boxplot(ax = axis[0,1], data = df, y = \"age\")\n",
                "sns.boxplot(ax = axis[1,0], data = df, y = \"bmi\")\n",
                "sns.boxplot(ax = axis[1,1], data = df, y = \"children\")\n",
                "\n",
                "\n",
                "fig.delaxes(axis[3,3])\n",
                "plt.tight_layout()\n",
                "\n",
                "plt.show()"
            ]
        },
        {
            "cell_type": "markdown",
            "metadata": {},
            "source": [
                "Interpretación boxplot box:\n",
                "Cuadro: representa el rango intercuartil (IQR), donde se encuentra el 50% medio de los valores RMSE. La línea dentro del cuadro muestra la mediana RMSE.\n",
                "Bigotes: Extender a los valores mínimo y máximo dentro de 1,5 * RIQ de los cuartiles.\n",
                "Valor atípico: cualquier punto fuera de los bigotes se considera un valor atípico. En este gráfico, hay un valor atípico que indica que un pliegue tenía un RMSE "
            ]
        },
        {
            "cell_type": "markdown",
            "metadata": {},
            "source": [
                "Vamos a ver qué valores faltantes o nulos tenemos en nuestro Dataset:"
            ]
        },
        {
            "cell_type": "code",
            "execution_count": null,
            "metadata": {},
            "outputs": [
                {
                    "data": {
                        "text/plain": [
                            "age         0\n",
                            "sex         0\n",
                            "bmi         0\n",
                            "children    0\n",
                            "smoker      0\n",
                            "region      0\n",
                            "charges     0\n",
                            "dtype: int64"
                        ]
                    },
                    "execution_count": 29,
                    "metadata": {},
                    "output_type": "execute_result"
                }
            ],
            "source": [
                "df.isnull().sum()"
            ]
        },
        {
            "cell_type": "markdown",
            "metadata": {},
            "source": [
                "Como vemos que está limpio, pasamos a codificar, escalar y modelar"
            ]
        },
        {
            "cell_type": "markdown",
            "metadata": {},
            "source": [
                "CODIFICACIÓN"
            ]
        },
        {
            "cell_type": "code",
            "execution_count": null,
            "metadata": {},
            "outputs": [
                {
                    "data": {
                        "text/html": [
                            "<div>\n",
                            "<style scoped>\n",
                            "    .dataframe tbody tr th:only-of-type {\n",
                            "        vertical-align: middle;\n",
                            "    }\n",
                            "\n",
                            "    .dataframe tbody tr th {\n",
                            "        vertical-align: top;\n",
                            "    }\n",
                            "\n",
                            "    .dataframe thead th {\n",
                            "        text-align: right;\n",
                            "    }\n",
                            "</style>\n",
                            "<table border=\"1\" class=\"dataframe\">\n",
                            "  <thead>\n",
                            "    <tr style=\"text-align: right;\">\n",
                            "      <th></th>\n",
                            "      <th>age</th>\n",
                            "      <th>sex</th>\n",
                            "      <th>bmi</th>\n",
                            "      <th>children</th>\n",
                            "      <th>smoker</th>\n",
                            "      <th>region</th>\n",
                            "      <th>charges</th>\n",
                            "      <th>sex_le</th>\n",
                            "    </tr>\n",
                            "  </thead>\n",
                            "  <tbody>\n",
                            "    <tr>\n",
                            "      <th>0</th>\n",
                            "      <td>19</td>\n",
                            "      <td>female</td>\n",
                            "      <td>27.900</td>\n",
                            "      <td>0</td>\n",
                            "      <td>yes</td>\n",
                            "      <td>southwest</td>\n",
                            "      <td>16884.92400</td>\n",
                            "      <td>0</td>\n",
                            "    </tr>\n",
                            "    <tr>\n",
                            "      <th>1</th>\n",
                            "      <td>18</td>\n",
                            "      <td>male</td>\n",
                            "      <td>33.770</td>\n",
                            "      <td>1</td>\n",
                            "      <td>no</td>\n",
                            "      <td>southeast</td>\n",
                            "      <td>1725.55230</td>\n",
                            "      <td>1</td>\n",
                            "    </tr>\n",
                            "    <tr>\n",
                            "      <th>2</th>\n",
                            "      <td>28</td>\n",
                            "      <td>male</td>\n",
                            "      <td>33.000</td>\n",
                            "      <td>3</td>\n",
                            "      <td>no</td>\n",
                            "      <td>southeast</td>\n",
                            "      <td>4449.46200</td>\n",
                            "      <td>1</td>\n",
                            "    </tr>\n",
                            "    <tr>\n",
                            "      <th>3</th>\n",
                            "      <td>33</td>\n",
                            "      <td>male</td>\n",
                            "      <td>22.705</td>\n",
                            "      <td>0</td>\n",
                            "      <td>no</td>\n",
                            "      <td>northwest</td>\n",
                            "      <td>21984.47061</td>\n",
                            "      <td>1</td>\n",
                            "    </tr>\n",
                            "    <tr>\n",
                            "      <th>4</th>\n",
                            "      <td>32</td>\n",
                            "      <td>male</td>\n",
                            "      <td>28.880</td>\n",
                            "      <td>0</td>\n",
                            "      <td>no</td>\n",
                            "      <td>northwest</td>\n",
                            "      <td>3866.85520</td>\n",
                            "      <td>1</td>\n",
                            "    </tr>\n",
                            "  </tbody>\n",
                            "</table>\n",
                            "</div>"
                        ],
                        "text/plain": [
                            "   age     sex     bmi  children smoker     region      charges  sex_le\n",
                            "0   19  female  27.900         0    yes  southwest  16884.92400       0\n",
                            "1   18    male  33.770         1     no  southeast   1725.55230       1\n",
                            "2   28    male  33.000         3     no  southeast   4449.46200       1\n",
                            "3   33    male  22.705         0     no  northwest  21984.47061       1\n",
                            "4   32    male  28.880         0     no  northwest   3866.85520       1"
                        ]
                    },
                    "execution_count": 59,
                    "metadata": {},
                    "output_type": "execute_result"
                }
            ],
            "source": [
                "\n",
                "#-Codificar:\n",
                "#Vamos a codificar las variables categóricas\n",
                "df_encoded_copy=df_encoded.copy()\n",
                "\n",
                "# instancio el encoder\n",
                "label_encoder_neighbourhood = LabelEncoder()\n",
                "\n",
                "# entreno el encoder con los datos de entrenamiento\n",
                "label_encoder_neighbourhood.fit(df_encoded[\"sex\"])\n",
                "\n",
                "# aplico el encoder en amhos\n",
                "df_encoded_copy[\"sex_le\"]= label_encoder_neighbourhood.transform(df_encoded[\"sex\"])\n",
                "\n",
                "df_encoded_copy.head()\n"
            ]
        },
        {
            "cell_type": "code",
            "execution_count": null,
            "metadata": {},
            "outputs": [
                {
                    "data": {
                        "text/html": [
                            "<div>\n",
                            "<style scoped>\n",
                            "    .dataframe tbody tr th:only-of-type {\n",
                            "        vertical-align: middle;\n",
                            "    }\n",
                            "\n",
                            "    .dataframe tbody tr th {\n",
                            "        vertical-align: top;\n",
                            "    }\n",
                            "\n",
                            "    .dataframe thead th {\n",
                            "        text-align: right;\n",
                            "    }\n",
                            "</style>\n",
                            "<table border=\"1\" class=\"dataframe\">\n",
                            "  <thead>\n",
                            "    <tr style=\"text-align: right;\">\n",
                            "      <th></th>\n",
                            "      <th>smoker_no</th>\n",
                            "      <th>smoker_yes</th>\n",
                            "      <th>region_northeast</th>\n",
                            "      <th>region_northwest</th>\n",
                            "      <th>region_southeast</th>\n",
                            "      <th>region_southwest</th>\n",
                            "    </tr>\n",
                            "  </thead>\n",
                            "  <tbody>\n",
                            "    <tr>\n",
                            "      <th>0</th>\n",
                            "      <td>0.0</td>\n",
                            "      <td>1.0</td>\n",
                            "      <td>0.0</td>\n",
                            "      <td>0.0</td>\n",
                            "      <td>0.0</td>\n",
                            "      <td>1.0</td>\n",
                            "    </tr>\n",
                            "    <tr>\n",
                            "      <th>1</th>\n",
                            "      <td>1.0</td>\n",
                            "      <td>0.0</td>\n",
                            "      <td>0.0</td>\n",
                            "      <td>0.0</td>\n",
                            "      <td>1.0</td>\n",
                            "      <td>0.0</td>\n",
                            "    </tr>\n",
                            "    <tr>\n",
                            "      <th>2</th>\n",
                            "      <td>1.0</td>\n",
                            "      <td>0.0</td>\n",
                            "      <td>0.0</td>\n",
                            "      <td>0.0</td>\n",
                            "      <td>1.0</td>\n",
                            "      <td>0.0</td>\n",
                            "    </tr>\n",
                            "    <tr>\n",
                            "      <th>3</th>\n",
                            "      <td>1.0</td>\n",
                            "      <td>0.0</td>\n",
                            "      <td>0.0</td>\n",
                            "      <td>1.0</td>\n",
                            "      <td>0.0</td>\n",
                            "      <td>0.0</td>\n",
                            "    </tr>\n",
                            "    <tr>\n",
                            "      <th>4</th>\n",
                            "      <td>1.0</td>\n",
                            "      <td>0.0</td>\n",
                            "      <td>0.0</td>\n",
                            "      <td>1.0</td>\n",
                            "      <td>0.0</td>\n",
                            "      <td>0.0</td>\n",
                            "    </tr>\n",
                            "  </tbody>\n",
                            "</table>\n",
                            "</div>"
                        ],
                        "text/plain": [
                            "   smoker_no  smoker_yes  region_northeast  region_northwest  \\\n",
                            "0        0.0         1.0               0.0               0.0   \n",
                            "1        1.0         0.0               0.0               0.0   \n",
                            "2        1.0         0.0               0.0               0.0   \n",
                            "3        1.0         0.0               0.0               1.0   \n",
                            "4        1.0         0.0               0.0               1.0   \n",
                            "\n",
                            "   region_southeast  region_southwest  \n",
                            "0               0.0               1.0  \n",
                            "1               1.0               0.0  \n",
                            "2               1.0               0.0  \n",
                            "3               0.0               0.0  \n",
                            "4               0.0               0.0  "
                        ]
                    },
                    "execution_count": 60,
                    "metadata": {},
                    "output_type": "execute_result"
                }
            ],
            "source": [
                "\n",
                "onehotencoder_variables=[\"smoker\",\"region\"]\n",
                "\n",
                "# instancio el encoder\n",
                "onehot_encoder = OneHotEncoder(sparse_output=False)\n",
                "\n",
                "# entreno el encoder con los datos de entrenamiento\n",
                "onehot_encoder.fit(df_encoded[onehotencoder_variables])\n",
                "\n",
                "# aplico el encoder en amhos\n",
                "df_encoded_copy_ohe= onehot_encoder.transform(df_encoded[onehotencoder_variables])\n",
                "df_encoded_copy_ohe = pd.DataFrame(df_encoded_copy_ohe, index = df_encoded.index, columns=onehot_encoder.get_feature_names_out(onehotencoder_variables))\n",
                "\n",
                "\n",
                "df_encoded_copy_ohe.head()"
            ]
        },
        {
            "cell_type": "code",
            "execution_count": null,
            "metadata": {},
            "outputs": [
                {
                    "data": {
                        "text/html": [
                            "<div>\n",
                            "<style scoped>\n",
                            "    .dataframe tbody tr th:only-of-type {\n",
                            "        vertical-align: middle;\n",
                            "    }\n",
                            "\n",
                            "    .dataframe tbody tr th {\n",
                            "        vertical-align: top;\n",
                            "    }\n",
                            "\n",
                            "    .dataframe thead th {\n",
                            "        text-align: right;\n",
                            "    }\n",
                            "</style>\n",
                            "<table border=\"1\" class=\"dataframe\">\n",
                            "  <thead>\n",
                            "    <tr style=\"text-align: right;\">\n",
                            "      <th></th>\n",
                            "      <th>age</th>\n",
                            "      <th>sex</th>\n",
                            "      <th>bmi</th>\n",
                            "      <th>children</th>\n",
                            "      <th>smoker</th>\n",
                            "      <th>region</th>\n",
                            "      <th>charges</th>\n",
                            "      <th>sex_le</th>\n",
                            "    </tr>\n",
                            "  </thead>\n",
                            "  <tbody>\n",
                            "    <tr>\n",
                            "      <th>0</th>\n",
                            "      <td>19</td>\n",
                            "      <td>female</td>\n",
                            "      <td>27.900</td>\n",
                            "      <td>0</td>\n",
                            "      <td>yes</td>\n",
                            "      <td>southwest</td>\n",
                            "      <td>16884.92400</td>\n",
                            "      <td>0</td>\n",
                            "    </tr>\n",
                            "    <tr>\n",
                            "      <th>1</th>\n",
                            "      <td>18</td>\n",
                            "      <td>male</td>\n",
                            "      <td>33.770</td>\n",
                            "      <td>1</td>\n",
                            "      <td>no</td>\n",
                            "      <td>southeast</td>\n",
                            "      <td>1725.55230</td>\n",
                            "      <td>1</td>\n",
                            "    </tr>\n",
                            "    <tr>\n",
                            "      <th>2</th>\n",
                            "      <td>28</td>\n",
                            "      <td>male</td>\n",
                            "      <td>33.000</td>\n",
                            "      <td>3</td>\n",
                            "      <td>no</td>\n",
                            "      <td>southeast</td>\n",
                            "      <td>4449.46200</td>\n",
                            "      <td>1</td>\n",
                            "    </tr>\n",
                            "    <tr>\n",
                            "      <th>3</th>\n",
                            "      <td>33</td>\n",
                            "      <td>male</td>\n",
                            "      <td>22.705</td>\n",
                            "      <td>0</td>\n",
                            "      <td>no</td>\n",
                            "      <td>northwest</td>\n",
                            "      <td>21984.47061</td>\n",
                            "      <td>1</td>\n",
                            "    </tr>\n",
                            "    <tr>\n",
                            "      <th>4</th>\n",
                            "      <td>32</td>\n",
                            "      <td>male</td>\n",
                            "      <td>28.880</td>\n",
                            "      <td>0</td>\n",
                            "      <td>no</td>\n",
                            "      <td>northwest</td>\n",
                            "      <td>3866.85520</td>\n",
                            "      <td>1</td>\n",
                            "    </tr>\n",
                            "  </tbody>\n",
                            "</table>\n",
                            "</div>"
                        ],
                        "text/plain": [
                            "   age     sex     bmi  children smoker     region      charges  sex_le\n",
                            "0   19  female  27.900         0    yes  southwest  16884.92400       0\n",
                            "1   18    male  33.770         1     no  southeast   1725.55230       1\n",
                            "2   28    male  33.000         3     no  southeast   4449.46200       1\n",
                            "3   33    male  22.705         0     no  northwest  21984.47061       1\n",
                            "4   32    male  28.880         0     no  northwest   3866.85520       1"
                        ]
                    },
                    "execution_count": 61,
                    "metadata": {},
                    "output_type": "execute_result"
                }
            ],
            "source": [
                "df_encoded_copy.head()"
            ]
        },
        {
            "cell_type": "code",
            "execution_count": null,
            "metadata": {},
            "outputs": [
                {
                    "data": {
                        "text/html": [
                            "<div>\n",
                            "<style scoped>\n",
                            "    .dataframe tbody tr th:only-of-type {\n",
                            "        vertical-align: middle;\n",
                            "    }\n",
                            "\n",
                            "    .dataframe tbody tr th {\n",
                            "        vertical-align: top;\n",
                            "    }\n",
                            "\n",
                            "    .dataframe thead th {\n",
                            "        text-align: right;\n",
                            "    }\n",
                            "</style>\n",
                            "<table border=\"1\" class=\"dataframe\">\n",
                            "  <thead>\n",
                            "    <tr style=\"text-align: right;\">\n",
                            "      <th></th>\n",
                            "      <th>age</th>\n",
                            "      <th>sex</th>\n",
                            "      <th>bmi</th>\n",
                            "      <th>children</th>\n",
                            "      <th>smoker</th>\n",
                            "      <th>region</th>\n",
                            "      <th>charges</th>\n",
                            "      <th>sex_le</th>\n",
                            "      <th>smoker_no</th>\n",
                            "      <th>smoker_yes</th>\n",
                            "      <th>region_northeast</th>\n",
                            "      <th>region_northwest</th>\n",
                            "      <th>region_southeast</th>\n",
                            "      <th>region_southwest</th>\n",
                            "    </tr>\n",
                            "  </thead>\n",
                            "  <tbody>\n",
                            "    <tr>\n",
                            "      <th>0</th>\n",
                            "      <td>19</td>\n",
                            "      <td>female</td>\n",
                            "      <td>27.900</td>\n",
                            "      <td>0</td>\n",
                            "      <td>yes</td>\n",
                            "      <td>southwest</td>\n",
                            "      <td>16884.92400</td>\n",
                            "      <td>0</td>\n",
                            "      <td>0.0</td>\n",
                            "      <td>1.0</td>\n",
                            "      <td>0.0</td>\n",
                            "      <td>0.0</td>\n",
                            "      <td>0.0</td>\n",
                            "      <td>1.0</td>\n",
                            "    </tr>\n",
                            "    <tr>\n",
                            "      <th>1</th>\n",
                            "      <td>18</td>\n",
                            "      <td>male</td>\n",
                            "      <td>33.770</td>\n",
                            "      <td>1</td>\n",
                            "      <td>no</td>\n",
                            "      <td>southeast</td>\n",
                            "      <td>1725.55230</td>\n",
                            "      <td>1</td>\n",
                            "      <td>1.0</td>\n",
                            "      <td>0.0</td>\n",
                            "      <td>0.0</td>\n",
                            "      <td>0.0</td>\n",
                            "      <td>1.0</td>\n",
                            "      <td>0.0</td>\n",
                            "    </tr>\n",
                            "    <tr>\n",
                            "      <th>2</th>\n",
                            "      <td>28</td>\n",
                            "      <td>male</td>\n",
                            "      <td>33.000</td>\n",
                            "      <td>3</td>\n",
                            "      <td>no</td>\n",
                            "      <td>southeast</td>\n",
                            "      <td>4449.46200</td>\n",
                            "      <td>1</td>\n",
                            "      <td>1.0</td>\n",
                            "      <td>0.0</td>\n",
                            "      <td>0.0</td>\n",
                            "      <td>0.0</td>\n",
                            "      <td>1.0</td>\n",
                            "      <td>0.0</td>\n",
                            "    </tr>\n",
                            "    <tr>\n",
                            "      <th>3</th>\n",
                            "      <td>33</td>\n",
                            "      <td>male</td>\n",
                            "      <td>22.705</td>\n",
                            "      <td>0</td>\n",
                            "      <td>no</td>\n",
                            "      <td>northwest</td>\n",
                            "      <td>21984.47061</td>\n",
                            "      <td>1</td>\n",
                            "      <td>1.0</td>\n",
                            "      <td>0.0</td>\n",
                            "      <td>0.0</td>\n",
                            "      <td>1.0</td>\n",
                            "      <td>0.0</td>\n",
                            "      <td>0.0</td>\n",
                            "    </tr>\n",
                            "    <tr>\n",
                            "      <th>4</th>\n",
                            "      <td>32</td>\n",
                            "      <td>male</td>\n",
                            "      <td>28.880</td>\n",
                            "      <td>0</td>\n",
                            "      <td>no</td>\n",
                            "      <td>northwest</td>\n",
                            "      <td>3866.85520</td>\n",
                            "      <td>1</td>\n",
                            "      <td>1.0</td>\n",
                            "      <td>0.0</td>\n",
                            "      <td>0.0</td>\n",
                            "      <td>1.0</td>\n",
                            "      <td>0.0</td>\n",
                            "      <td>0.0</td>\n",
                            "    </tr>\n",
                            "  </tbody>\n",
                            "</table>\n",
                            "</div>"
                        ],
                        "text/plain": [
                            "   age     sex     bmi  children smoker     region      charges  sex_le  \\\n",
                            "0   19  female  27.900         0    yes  southwest  16884.92400       0   \n",
                            "1   18    male  33.770         1     no  southeast   1725.55230       1   \n",
                            "2   28    male  33.000         3     no  southeast   4449.46200       1   \n",
                            "3   33    male  22.705         0     no  northwest  21984.47061       1   \n",
                            "4   32    male  28.880         0     no  northwest   3866.85520       1   \n",
                            "\n",
                            "   smoker_no  smoker_yes  region_northeast  region_northwest  \\\n",
                            "0        0.0         1.0               0.0               0.0   \n",
                            "1        1.0         0.0               0.0               0.0   \n",
                            "2        1.0         0.0               0.0               0.0   \n",
                            "3        1.0         0.0               0.0               1.0   \n",
                            "4        1.0         0.0               0.0               1.0   \n",
                            "\n",
                            "   region_southeast  region_southwest  \n",
                            "0               0.0               1.0  \n",
                            "1               1.0               0.0  \n",
                            "2               1.0               0.0  \n",
                            "3               0.0               0.0  \n",
                            "4               0.0               0.0  "
                        ]
                    },
                    "execution_count": 62,
                    "metadata": {},
                    "output_type": "execute_result"
                }
            ],
            "source": [
                "#Vamos a juntar los dos Dataframes\n",
                "\n",
                "df_encoded_final=pd.concat([df_encoded_copy,df_encoded_copy_ohe], axis=1)\n",
                "df_encoded_final.head()"
            ]
        },
        {
            "cell_type": "code",
            "execution_count": null,
            "metadata": {},
            "outputs": [
                {
                    "data": {
                        "text/plain": [
                            "age                   int64\n",
                            "sex                  object\n",
                            "bmi                 float64\n",
                            "children              int64\n",
                            "smoker               object\n",
                            "region               object\n",
                            "charges             float64\n",
                            "sex_le                int64\n",
                            "smoker_no           float64\n",
                            "smoker_yes          float64\n",
                            "region_northeast    float64\n",
                            "region_northwest    float64\n",
                            "region_southeast    float64\n",
                            "region_southwest    float64\n",
                            "dtype: object"
                        ]
                    },
                    "execution_count": 63,
                    "metadata": {},
                    "output_type": "execute_result"
                }
            ],
            "source": [
                "df_encoded_final.dtypes"
            ]
        },
        {
            "cell_type": "code",
            "execution_count": 42,
            "metadata": {},
            "outputs": [],
            "source": [
                "#Quitamos las columnas donde el datatype es \"object\"\n",
                "\n",
                "df_encoded_final= df_encoded_final.select_dtypes(exclude=\"object\")"
            ]
        },
        {
            "cell_type": "code",
            "execution_count": null,
            "metadata": {},
            "outputs": [
                {
                    "data": {
                        "text/html": [
                            "<div>\n",
                            "<style scoped>\n",
                            "    .dataframe tbody tr th:only-of-type {\n",
                            "        vertical-align: middle;\n",
                            "    }\n",
                            "\n",
                            "    .dataframe tbody tr th {\n",
                            "        vertical-align: top;\n",
                            "    }\n",
                            "\n",
                            "    .dataframe thead th {\n",
                            "        text-align: right;\n",
                            "    }\n",
                            "</style>\n",
                            "<table border=\"1\" class=\"dataframe\">\n",
                            "  <thead>\n",
                            "    <tr style=\"text-align: right;\">\n",
                            "      <th></th>\n",
                            "      <th>bmi</th>\n",
                            "      <th>children</th>\n",
                            "      <th>charges</th>\n",
                            "      <th>sex_le</th>\n",
                            "      <th>smoker_no</th>\n",
                            "      <th>smoker_yes</th>\n",
                            "      <th>region_northeast</th>\n",
                            "      <th>region_northwest</th>\n",
                            "      <th>region_southeast</th>\n",
                            "      <th>region_southwest</th>\n",
                            "    </tr>\n",
                            "  </thead>\n",
                            "  <tbody>\n",
                            "    <tr>\n",
                            "      <th>560</th>\n",
                            "      <td>19.95</td>\n",
                            "      <td>2</td>\n",
                            "      <td>9193.83850</td>\n",
                            "      <td>0</td>\n",
                            "      <td>1.0</td>\n",
                            "      <td>0.0</td>\n",
                            "      <td>0.0</td>\n",
                            "      <td>1.0</td>\n",
                            "      <td>0.0</td>\n",
                            "      <td>0.0</td>\n",
                            "    </tr>\n",
                            "    <tr>\n",
                            "      <th>1285</th>\n",
                            "      <td>24.32</td>\n",
                            "      <td>0</td>\n",
                            "      <td>8534.67180</td>\n",
                            "      <td>0</td>\n",
                            "      <td>1.0</td>\n",
                            "      <td>0.0</td>\n",
                            "      <td>1.0</td>\n",
                            "      <td>0.0</td>\n",
                            "      <td>0.0</td>\n",
                            "      <td>0.0</td>\n",
                            "    </tr>\n",
                            "    <tr>\n",
                            "      <th>1142</th>\n",
                            "      <td>24.86</td>\n",
                            "      <td>0</td>\n",
                            "      <td>27117.99378</td>\n",
                            "      <td>0</td>\n",
                            "      <td>1.0</td>\n",
                            "      <td>0.0</td>\n",
                            "      <td>0.0</td>\n",
                            "      <td>0.0</td>\n",
                            "      <td>1.0</td>\n",
                            "      <td>0.0</td>\n",
                            "    </tr>\n",
                            "    <tr>\n",
                            "      <th>969</th>\n",
                            "      <td>34.32</td>\n",
                            "      <td>5</td>\n",
                            "      <td>8596.82780</td>\n",
                            "      <td>0</td>\n",
                            "      <td>1.0</td>\n",
                            "      <td>0.0</td>\n",
                            "      <td>0.0</td>\n",
                            "      <td>0.0</td>\n",
                            "      <td>1.0</td>\n",
                            "      <td>0.0</td>\n",
                            "    </tr>\n",
                            "    <tr>\n",
                            "      <th>486</th>\n",
                            "      <td>21.47</td>\n",
                            "      <td>3</td>\n",
                            "      <td>12475.35130</td>\n",
                            "      <td>0</td>\n",
                            "      <td>1.0</td>\n",
                            "      <td>0.0</td>\n",
                            "      <td>0.0</td>\n",
                            "      <td>1.0</td>\n",
                            "      <td>0.0</td>\n",
                            "      <td>0.0</td>\n",
                            "    </tr>\n",
                            "  </tbody>\n",
                            "</table>\n",
                            "</div>"
                        ],
                        "text/plain": [
                            "        bmi  children      charges  sex_le  smoker_no  smoker_yes  \\\n",
                            "560   19.95         2   9193.83850       0        1.0         0.0   \n",
                            "1285  24.32         0   8534.67180       0        1.0         0.0   \n",
                            "1142  24.86         0  27117.99378       0        1.0         0.0   \n",
                            "969   34.32         5   8596.82780       0        1.0         0.0   \n",
                            "486   21.47         3  12475.35130       0        1.0         0.0   \n",
                            "\n",
                            "      region_northeast  region_northwest  region_southeast  region_southwest  \n",
                            "560                0.0               1.0               0.0               0.0  \n",
                            "1285               1.0               0.0               0.0               0.0  \n",
                            "1142               0.0               0.0               1.0               0.0  \n",
                            "969                0.0               0.0               1.0               0.0  \n",
                            "486                0.0               1.0               0.0               0.0  "
                        ]
                    },
                    "execution_count": 67,
                    "metadata": {},
                    "output_type": "execute_result"
                }
            ],
            "source": [
                "# Dividimos el conjunto de datos en muestras de train y test\n",
                "\n",
                "X = df_encoded_final.drop(\"age\", axis = 1)\n",
                "y = df_encoded_final[\"age\"]\n",
                "\n",
                "X_train, X_test, y_train, y_test = train_test_split(X, y, test_size = 0.2, random_state = 42)\n",
                "\n",
                "\n",
                "X_train.head()"
            ]
        },
        {
            "cell_type": "markdown",
            "metadata": {},
            "source": [
                "MODELADO"
            ]
        },
        {
            "cell_type": "code",
            "execution_count": null,
            "metadata": {},
            "outputs": [
                {
                    "name": "stdout",
                    "output_type": "stream",
                    "text": [
                        "Train RMSE: 12.002626728100328\n",
                        "Test RMSE: 11.961023057975009\n",
                        "Train R-squared: 0.2720089512432735\n",
                        "Test R-squared: 0.26353560886850624\n"
                    ]
                },
                {
                    "name": "stderr",
                    "output_type": "stream",
                    "text": [
                        "/Users/nataliagarciavila/miniconda3/envs/myenv/lib/python3.12/site-packages/sklearn/metrics/_regression.py:483: FutureWarning: 'squared' is deprecated in version 1.4 and will be removed in 1.6. To calculate the root mean squared error, use the function'root_mean_squared_error'.\n",
                        "  warnings.warn(\n",
                        "/Users/nataliagarciavila/miniconda3/envs/myenv/lib/python3.12/site-packages/sklearn/metrics/_regression.py:483: FutureWarning: 'squared' is deprecated in version 1.4 and will be removed in 1.6. To calculate the root mean squared error, use the function'root_mean_squared_error'.\n",
                        "  warnings.warn(\n"
                    ]
                }
            ],
            "source": [
                "#Vamos a modelar para así poder sacar nuestro análisis:\n",
                "\n",
                "# Initialize and train the model\n",
                "model = LinearRegression()\n",
                "model.fit(X_train, y_train)\n",
                "\n",
                "# Make predictions\n",
                "y_pred_train = model.predict(X_train)\n",
                "y_pred_test = model.predict(X_test)\n",
                "\n",
                "# Evaluate the model\n",
                "train_rmse = mean_squared_error(y_train, y_pred_train, squared=False)\n",
                "test_rmse = mean_squared_error(y_test, y_pred_test, squared=False)\n",
                "train_r2 = r2_score(y_train, y_pred_train)\n",
                "test_r2 = r2_score(y_test, y_pred_test)\n",
                "\n",
                "# Display the evaluation metrics\n",
                "print(f\"Train RMSE: {train_rmse}\")\n",
                "print(f\"Test RMSE: {test_rmse}\")\n",
                "print(f\"Train R-squared: {train_r2}\")\n",
                "print(f\"Test R-squared: {test_r2}\")"
            ]
        }
    ],
    "metadata": {
        "kernelspec": {
            "display_name": "Python 3.8.13 64-bit ('3.8.13')",
            "language": "python",
            "name": "python3"
        },
        "language_info": {
            "codemirror_mode": {
                "name": "ipython",
                "version": 3
            },
            "file_extension": ".py",
            "mimetype": "text/x-python",
            "name": "python",
            "nbconvert_exporter": "python",
            "pygments_lexer": "ipython3",
            "version": "3.12.4"
        },
        "orig_nbformat": 4,
        "vscode": {
            "interpreter": {
                "hash": "110cc1dee26208153f2972f08a2ad52b6a56238dc66d48e87fb757ef2996db56"
            }
        }
    },
    "nbformat": 4,
    "nbformat_minor": 2
}
